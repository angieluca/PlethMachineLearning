{
 "cells": [
  {
   "cell_type": "markdown",
   "metadata": {},
   "source": [
    "# Final Project - Data Collection\n",
    "\n",
    "This is a **project group assignment**. No more than 3 individuals."
   ]
  },
  {
   "cell_type": "markdown",
   "metadata": {},
   "source": [
    "# Problem 1\n",
    "\n",
    "Create a final project group with no more than 4 individuals.\n",
    "\n",
    "1. Create your Group Team on GitHub.\n",
    "    * Select a name for your team. This will be used throughout the semester including announcement of contest winners.\n",
    "    * Only 1 person per team should **create** a GitHub Team, and the other members will **join** the team\n",
    "\n",
    "**I encourage you to meet with your teammates regularly.**"
   ]
  },
  {
   "cell_type": "markdown",
   "metadata": {},
   "source": [
    "# Problem 2\n",
    "\n",
    "## 2.1 Instructions\n",
    "\n",
    "Each group will collect part of the training dataset. In order to collect the data, you will take pictures of all 10 classes.\n",
    "\n",
    "Each team member should take a picture of a total of **10 trials** per class, giving a total of 100 images per team member. So, for a group with 3 members, there should be a total of 300 images.\n",
    "\n",
    "I recommend you to save your files using a **coding system**, e.g. **ID-trial-label**.\n",
    "\n",
    "* First assign a number from 1 to 4 to each team member, this is the ID. Then, for example, when team member with ID 4 is recording hers/his/their 5th picture of class label 8, the file name should read \"4-5-8.jpg\".\n",
    "\n",
    "Create folders in your group repository, where each team member can upload files to. Then combine all images and create a single \"data.npy\" and \"labels.npy\"."
   ]
  },
  {
   "cell_type": "markdown",
   "metadata": {},
   "source": [
    "## 2.2 Create your Data for Submission\n",
    "\n",
    "Create a dictionary with the data input array and target label array.\n",
    "\n",
    "Before you start, change the ```mydir``` variable below to the folder directory with your .jpg images."
   ]
  },
  {
   "cell_type": "code",
   "execution_count": null,
   "metadata": {},
   "outputs": [],
   "source": [
    "import matplotlib.pyplot as plt\n",
    "import numpy as np\n",
    "import os \n",
    "from PIL import Image # you may need to install Pillow in your environment (https://anaconda.org/anaconda/pillow)\n",
    "import re # you may need to install regex in your environment (https://anaconda.org/conda-forge/regex/)\n",
    "\n",
    "# Folder where all recordings are located\n",
    "# mydir = 'change-this-path-to-the-local-directory-where-your-images-are-located'\n",
    "mydir='figures'"
   ]
  },
  {
   "cell_type": "code",
   "execution_count": null,
   "metadata": {},
   "outputs": [],
   "source": [
    "# If the code above returns errors, it is likely that you have missing libraries\n",
    "# Install the missing libraries and then run, restart the kernel and run the imports again.\n",
    "\n",
    "# # Installs Pillow\n",
    "# %conda install -c anaconda pillow\n",
    "\n",
    "# # Install Regex \n",
    "# %conda install -c conda-forge regex"
   ]
  },
  {
   "cell_type": "markdown",
   "metadata": {},
   "source": [
    "Now, there are two options to create your data:\n",
    "\n",
    "### Option 1 -- Slowest\n",
    "\n",
    "Use the code below to plot one file at a time, and manually label each recording.\n",
    "\n",
    "This code will output and save the data files in the desired format for assignment submission."
   ]
  },
  {
   "cell_type": "code",
   "execution_count": null,
   "metadata": {},
   "outputs": [],
   "source": [
    "labels = np.array([])\n",
    "\n",
    "i=0\n",
    "for file in os.listdir(mydir):\n",
    "    # Will only read .jpg files (you can change this to other formats)\n",
    "    # You may add more readable format with e.g.\n",
    "    if file.endswith('.jpg') or file.endswith('.jepg') or file.endswith('.png'):\n",
    "        filename = mydir+'/'+file\n",
    "        \n",
    "        # Loads image, converts to grayscale and resizes it to a 300x300 image\n",
    "        y = np.array(Image.open(filename).convert('RGB').resize((300,300)))\n",
    "        \n",
    "        # Resizes 300x300 image to 90,000x1 array\n",
    "        col_y = y.ravel()[:,np.newaxis]\n",
    "        \n",
    "        # Saves\n",
    "        if i==0:\n",
    "            data = col_y\n",
    "        else:\n",
    "            data = np.hstack((data, col_y))\n",
    "        \n",
    "        # Plots image\n",
    "        plt.figure(figsize=(5,5))\n",
    "        plt.imshow(y, cmap='gray')\n",
    "        plt.xticks([]),plt.yticks([])\n",
    "        plt.show();\n",
    "        \n",
    "        # Manually fills in the target label\n",
    "        l = input('Type the label present in this image (0,1,2,3,4,5,6,7,8 or 9) and press Enter...\\n')\n",
    "        labels = np.hstack((labels, l))\n",
    "        \n",
    "        i+=1\n",
    "\n",
    "if np.sum(labels=='')>0:\n",
    "    print('-------------------------------------------------------')\n",
    "    print('-------------------NEEDS ATTENTION---------------------')\n",
    "    print('-------------------------------------------------------')\n",
    "    print('ATTENTION, ',np.sum(labels==''), ' LABEL/S IS/ARE MISSING')\n",
    "    \n",
    "else:\n",
    "    print('-------------------------------------------------------')\n",
    "    print('----------------------DONE-----------------------------')\n",
    "    print('-------------------------------------------------------')    \n",
    "    labels = np.array([int(i) for i in labels] )\n",
    "    print('There are ', data.shape[1],' images')\n",
    "    print('There are ', labels.shape[0],' labels')\n",
    "\n",
    "# Saves the files to your current directory\n",
    "np.save('data', data)\n",
    "np.save('labels', labels)"
   ]
  },
  {
   "cell_type": "markdown",
   "metadata": {},
   "source": [
    "### Option 2 -- Fastest\n",
    "\n",
    "Using the **coding system** from data collection to automatically create and save your data.\n",
    "\n",
    "The code below will help process the data (using the coding system), and it will output and save the data files in the desired format for assignment submission."
   ]
  },
  {
   "cell_type": "code",
   "execution_count": null,
   "metadata": {},
   "outputs": [],
   "source": [
    "labels = np.array([])\n",
    "\n",
    "i=0\n",
    "for file in os.listdir(mydir):\n",
    "    # Will only read .jpg files (you can change this to other formats)\n",
    "#     You may add more readable format with e.g.\n",
    "    if file.endswith('.jpg') or file.endswith('.jepg') or file.endswith('.png'):\n",
    "        filename = mydir+'/'+file\n",
    "        # Loads image, converts to grayscale and resizes it to a 300x300 image\n",
    "        y = np.array(Image.open(filename).convert('RGB').resize((300,300)))\n",
    "        \n",
    "        # Resizes 300x300 image to 90,000x1 array\n",
    "        col_y = y.ravel()[:,np.newaxis]\n",
    "        \n",
    "        # Saves\n",
    "        if i==0:\n",
    "            data = col_y\n",
    "        else:\n",
    "            data = np.hstack((data, col_y))\n",
    "        \n",
    "        # Creates labels from filename\n",
    "        #Find location of label\n",
    "        match=re.split('[-.]',file)\n",
    "        labels = np.hstack((labels, int(match[2])))\n",
    "        \n",
    "        i+=1\n",
    "\n",
    "print('-------------------------------------------------------')\n",
    "print('----------------------DONE-----------------------------')\n",
    "print('-------------------------------------------------------')\n",
    "print('There are ', data.shape[1],' images')\n",
    "print('There are ', labels.shape[0],' labels')\n",
    "\n",
    "# Saves the files to your current directory\n",
    "np.save('data', data)\n",
    "np.save('labels', labels)"
   ]
  },
  {
   "cell_type": "markdown",
   "metadata": {},
   "source": [
    "## 2.3 Gather All Files for Submission\n",
    "\n",
    "To receive full credit in this question, you should submit to Canvas:\n",
    "\n",
    "1. Compressed folder (.zip) with the images collected from all team members. (100 recordings per student should be included.)\n",
    "2. Single file \"data.npy\" with all the data from the group.\n",
    "3. Single file \"labels.npy\" with all the associated target values from the group."
   ]
  },
  {
   "cell_type": "markdown",
   "metadata": {},
   "source": [
    "## Submit your Solution\n",
    "\n",
    "Confirm that you've successfully completed the assignment.\n",
    "\n",
    "```add``` and ```commit``` the final version of your work, and ```push``` your code/data to your GitHub repository -- **you may run into memory issues. If this happens, disregard this step and only submit the data files to Canvas**\n",
    "\n",
    "Submit the URL of your GitHub Repository along with all data as your assignment submission on Canvas."
   ]
  }
 ],
 "metadata": {
  "kernelspec": {
   "display_name": "Python 3 (ipykernel)",
   "language": "python",
   "name": "python3"
  },
  "language_info": {
   "codemirror_mode": {
    "name": "ipython",
    "version": 3
   },
   "file_extension": ".py",
   "mimetype": "text/x-python",
   "name": "python",
   "nbconvert_exporter": "python",
   "pygments_lexer": "ipython3",
   "version": "3.8.16"
  },
  "latex_envs": {
   "LaTeX_envs_menu_present": true,
   "autoclose": false,
   "autocomplete": true,
   "bibliofile": "biblio.bib",
   "cite_by": "apalike",
   "current_citInitial": 1,
   "eqLabelWithNumbers": true,
   "eqNumInitial": 1,
   "hotkeys": {
    "equation": "Ctrl-E",
    "itemize": "Ctrl-I"
   },
   "labels_anchors": false,
   "latex_user_defs": false,
   "report_style_numbering": false,
   "user_envs_cfg": false
  },
  "varInspector": {
   "cols": {
    "lenName": 16,
    "lenType": 16,
    "lenVar": 40
   },
   "kernels_config": {
    "python": {
     "delete_cmd_postfix": "",
     "delete_cmd_prefix": "del ",
     "library": "var_list.py",
     "varRefreshCmd": "print(var_dic_list())"
    },
    "r": {
     "delete_cmd_postfix": ") ",
     "delete_cmd_prefix": "rm(",
     "library": "var_list.r",
     "varRefreshCmd": "cat(var_dic_list()) "
    }
   },
   "types_to_exclude": [
    "module",
    "function",
    "builtin_function_or_method",
    "instance",
    "_Feature"
   ],
   "window_display": false
  }
 },
 "nbformat": 4,
 "nbformat_minor": 4
}
